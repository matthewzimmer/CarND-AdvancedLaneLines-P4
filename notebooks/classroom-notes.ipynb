{
 "cells": [
  {
   "cell_type": "markdown",
   "metadata": {
    "collapsed": true
   },
   "source": [
    "### 4. Distortion Correction\n",
    "#### Distortion\n",
    "\n",
    "[classroom](https://classroom.udacity.com/nanodegrees/nd013/parts/fbf77062-5703-404e-b60c-95b78b2f3f9e/modules/2b62a1c3-e151-4a0e-b6b6-e424fa46ceab/lessons/40ec78ee-fb7c-4b53-94a8-028c5c60b858/concepts/77d68b8f-f3e4-4305-8459-560897465a0f)\n",
    "\n",
    "Image distortion occurs when a camera looks at 3D objects in the real world and transforms them into a 2D image; this transformation isn’t perfect. Distortion actually changes what the shape and size of these 3D objects appear to be. So, the first step in analyzing camera images, is to undo this distortion so that you can get correct and useful information out of them."
   ]
  },
  {
   "cell_type": "markdown",
   "metadata": {},
   "source": [
    "### 5. Quiz: Effects of Distortion\n",
    "#### QUIZ QUESTION\n",
    "\n",
    "[classroom](https://classroom.udacity.com/nanodegrees/nd013/parts/fbf77062-5703-404e-b60c-95b78b2f3f9e/modules/2b62a1c3-e151-4a0e-b6b6-e424fa46ceab/lessons/40ec78ee-fb7c-4b53-94a8-028c5c60b858/concepts/667e0951-99ed-4b8f-b972-3b5614aac3b8)\n",
    "\n",
    "###### Why is it important to correct for image distortion?\n",
    "\n",
    "* [X] Distortion can change the apparent size of an object in an image.\n",
    "\n",
    "* [X] Distortion can change the apparent shape of an object in an image.\n",
    "\n",
    "* [X] Distortion can cause an object's appearance to change depending on where it is in the field of view.\n",
    "\n",
    "* [X] Distortion can make objects appear closer or farther away than they actually are.\n"
   ]
  },
  {
   "cell_type": "markdown",
   "metadata": {},
   "source": [
    "### 6. Pinhole Camera Model\n",
    "\n",
    "[classroom](https://classroom.udacity.com/nanodegrees/nd013/parts/fbf77062-5703-404e-b60c-95b78b2f3f9e/modules/2b62a1c3-e151-4a0e-b6b6-e424fa46ceab/lessons/40ec78ee-fb7c-4b53-94a8-028c5c60b858/concepts/a9f8aeb5-d619-4a58-aa90-6b1bb81cd675)\n",
    "\n",
    "#### Types of Distortion\n",
    "\n",
    "Real cameras use curved lenses to form an image, and light rays often bend a little too much or too little at the edges of these lenses. This creates an effect that distorts the edges of images, so that lines or objects appear more or less curved than they actually are. This is called radial distortion, and it’s the most common type of distortion.\n",
    "\n",
    "Another type of distortion, is tangential distortion. This occurs when a camera’s lens is not aligned perfectly parallel to the imaging plane, where the camera film or sensor is. This makes an image look tilted so that some objects appear farther away or closer than they actually are.\n",
    "\n",
    "\n",
    "#### Distortion Coefficients and Correction\n",
    "\n",
    "There are three coefficients needed to correct for **radial distortion**: **k1**, **k2**, and **k3**. To correct the appearance of radially distorted points in an image, one can use a correction formula.\n",
    "\n",
    "In the following equations, _(x,y)_ is a point in a distorted image. To undistort these points, OpenCV calculates r, which is the known distance between a point in an undistorted (corrected) image _(x_corrected, y_corrected)_ and the center of the image distortion, which is often the center of that image _(x_c, y_c)_. This center point _(x_c, y_c)_ is sometimes referred to as the distortion center. These points are pictured below.\n",
    "\n",
    "_Note_: The distortion coefficient **k3** is required to accurately reflect major radial distortion (like in wide angle lenses). However, for minor radial distortion, which most regular camera lenses have, **k3** has a value close to or equal to zero and is negligible. So, in OpenCV, you can choose to ignore this coefficient; this is why it appears at the end of the distortion values array: _[k1, k2, p1, p2, k3]_. In this course, we will use it in all calibration calculations so that our calculations apply to a wider variety of lenses (wider, like wide angle, haha) and can correct for both minor and major radial distortion.\n",
    "\n",
    "![](https://d17h27t6h515a5.cloudfront.net/topher/2016/December/5840ae19_screen-shot-2016-12-01-at-3.10.19-pm/screen-shot-2016-12-01-at-3.10.19-pm.png)\n",
    "\n",
    "Points in an distorted and undistorted (corrected) image. The point _(x, y)_ is a single point in a distorted image and _(x_corrected, y_corrected)_ is where that point will appear in the undistorted (corrected) image.\n",
    "\n",
    "![](https://d17h27t6h515a5.cloudfront.net/topher/2016/November/58364b0d_screen-shot-2016-11-23-at-6.05.49-pm/screen-shot-2016-11-23-at-6.05.49-pm.png)\n",
    "Radial distortion correction.\n",
    "\n",
    "There are two more coefficients that account for *tangential distortion*: *p1* and *p2*, and this distortion can be corrected using a different correction formula.\n",
    "\n",
    "![](https://d17h27t6h515a5.cloudfront.net/topher/2016/November/58364c09_screen-shot-2016-11-23-at-6.10.06-pm/screen-shot-2016-11-23-at-6.10.06-pm.png)\n",
    "\n",
    "Tangential distortion correction.\n"
   ]
  },
  {
   "cell_type": "code",
   "execution_count": null,
   "metadata": {
    "collapsed": true
   },
   "outputs": [],
   "source": []
  }
 ],
 "metadata": {
  "anaconda-cloud": {},
  "kernelspec": {
   "display_name": "Python [conda env:carnd]",
   "language": "python",
   "name": "conda-env-carnd-py"
  },
  "language_info": {
   "codemirror_mode": {
    "name": "ipython",
    "version": 3
   },
   "file_extension": ".py",
   "mimetype": "text/x-python",
   "name": "python",
   "nbconvert_exporter": "python",
   "pygments_lexer": "ipython3",
   "version": "3.5.2"
  }
 },
 "nbformat": 4,
 "nbformat_minor": 0
}
